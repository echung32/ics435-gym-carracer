{
  "nbformat": 4,
  "nbformat_minor": 0,
  "metadata": {
    "colab": {
      "provenance": [],
      "gpuType": "T4",
      "authorship_tag": "ABX9TyOHyN/5+BqI572tsf6/o7vH",
      "include_colab_link": true
    },
    "kernelspec": {
      "name": "python3",
      "display_name": "Python 3"
    },
    "accelerator": "GPU"
  },
  "cells": [
    {
      "cell_type": "markdown",
      "metadata": {
        "id": "view-in-github",
        "colab_type": "text"
      },
      "source": [
        "<a href=\"https://colab.research.google.com/github/ics435/CNN_CarRacer/blob/main/CNN_CarRacer.ipynb\" target=\"_parent\"><img src=\"https://colab.research.google.com/assets/colab-badge.svg\" alt=\"Open In Colab\"/></a>"
      ]
    },
    {
      "cell_type": "markdown",
      "metadata": {
        "id": "YwRj3ZATBnBf"
      },
      "source": [
        "# OpenAI CarRacing with Behavioral Cloning\n",
        "\n",
        "In this homework, you will train an agent to drive on a race track in a video-game style simulator. The agent has a neural network controller that you will train using example data of a car racing around the track. At each timestep, the neural network takes in the *state* of the car as an image and outputs which *action* to take.\n",
        "\n",
        "This system is known as a *Markov Decision Process (MDP)* because at each discrete timestep, the agent makes a decision using only the current state, with no memory of the previous state (this is called the Markov property). In the context of Reinforcement Learning, this training strategy is known as *behavioral cloning* because we are learning by copying the actions of another agent.\n",
        "\n",
        "The simulator is the CarRacing-v0 environment from OpenAI. In this environment, a *state* is a (96, 96, 3) color image which shows the position of the car along with the current speed, stearing position, and braking status in the bottom of the image. The *actions* that are available to the agent are stear (between -1 and 1), accelerate (0 to 1), and break (0 to 1). To simplify this assignment, I have converted this into a classification problem with only seven discrete actions:\n",
        "\n",
        "0. Do nothing\n",
        "1. Left\n",
        "2. Left+Break\n",
        "3. Right\n",
        "4. Right+Break\n",
        "5. Accelerate!\n",
        "6. Break\n",
        "\n",
        "Below is provided a dataset of 11,132 example (state, action) pairs you can use for training. These were sampled from simulations of a highly-skilled AI agent. The first cell downloads the data and installs many of the dependencies needed to run the simulations and generate videos in Google Colab. You should be able to train your agent and view videos of your agent within Colab.\n",
        "\n",
        "## Tasks:\n",
        "1.   Create a class called `Agent` with methods 'train' and 'act'.\n",
        "2.   Train the agent to drive. Optimize hyperparameters such as the learning rate, network architecture, etc. You can do this by hand (you don't need to do anything fancy).\n",
        "3. Create a video of your agent driving.\n",
        "\n",
        "## To turn in:\n",
        "1. Your code as a jupyter notebook.\n",
        "2. A description of your agent model and its performance. Include this description after your code in the jupyter notebook, following the [Guide to Describing ML Methods](https://laulima.hawaii.edu/access/content/group/MAN.XLSIDIN35ps.202230/Guide_to_Describing_ML_Methods.pdf). I don't expect you to do extensive hyperparameter tuning, but you **must** describe the performance of your model on a validation set using the appropriate metrics so that you know when you are overfitting.\n",
        "3. Upload a video of your best agent to [this google drive](https://drive.google.com/drive/folders/1Hk4PTqfr5A3BeW2m3mgAuQmbxo_Z-8AK?usp=sharing). (Feel free to also upload any funny or interesting behavior.)\n"
      ]
    },
    {
      "cell_type": "code",
      "metadata": {
        "colab": {
          "base_uri": "https://localhost:8080/",
          "height": 644
        },
        "id": "0WycAuNU2JX1",
        "outputId": "4c0cfc74-f4e6-41a8-b22b-6d9d1e42de8f"
      },
      "source": [
        "# NO NEED TO MODIFY THIS CELL\n",
        "# First install dependencies for rendering openai gym in colab and recording.\n",
        "# Remove \" > /dev/null 2>&1\" to see what is going on under the hood\n",
        "!pip install swig > /dev/null 2>&1\n",
        "!pip install gym[box2d] pyvirtualdisplay piglet > /dev/null 2>&1\n",
        "!apt install -y xvfb  > /dev/null 2>&1\n",
        "!apt install -y python-opengl ffmpeg > /dev/null 2>&1\n",
        "import gym\n",
        "from gym import logger as gymlogger\n",
        "gymlogger.set_level(40) #error only\n",
        "from gym.wrappers.record_video import RecordVideo\n",
        "import numpy as np\n",
        "import random, math, glob, io, base64\n",
        "import matplotlib.pyplot as plt\n",
        "%matplotlib inline\n",
        "from IPython.display import HTML\n",
        "from IPython import display as ipythondisplay\n",
        "from pyvirtualdisplay import Display\n",
        "display = Display(visible=0, size=(1400, 900))\n",
        "display.start()\n",
        "\n",
        "def show_video():\n",
        "  mp4list = glob.glob('video/*.mp4')\n",
        "  if len(mp4list) > 0:\n",
        "    mp4 = mp4list[0]\n",
        "    video = io.open(mp4, 'r+b').read()\n",
        "    encoded = base64.b64encode(video)\n",
        "    ipythondisplay.display(HTML(data='''<video alt=\"test\" autoplay\n",
        "                loop controls style=\"height: 400px;\">\n",
        "                <source src=\"data:video/mp4;base64,{0}\" type=\"video/mp4\" />\n",
        "             </video>'''.format(encoded.decode('ascii'))))\n",
        "  else:\n",
        "    print(\"Could not find video\")\n",
        "\n",
        "def wrap_env(env):\n",
        "  \"\"\"\n",
        "  Utility functions to enable video recording of gym environment and displaying it\n",
        "  To enable video, just do \"env = wrap_env(env)\"\"\n",
        "  \"\"\"\n",
        "  env = RecordVideo(env, './video',  episode_trigger = lambda episode_number: True)\n",
        "  # Monitor(env, './video', force=True)\n",
        "  env.reset()\n",
        "  return env\n",
        "\n",
        "# Download example data for training.\n",
        "import gzip, os, pickle, random\n",
        "import matplotlib.pyplot as plt\n",
        "!gdown --id 1AQnMFSRU3qQcHA-ruS8Ahcz-00FmYoi0 # File shared on Peter's gdrive 6MB.\n",
        "with gzip.open('carracing_behavior.gzip', 'rb') as f:\n",
        "    states, action_classes = pickle.load(f)\n",
        "\n",
        "print('\\nState data shape (examples, x, y, color):', states.shape)\n",
        "print('Action data shape (examples, action idx):', action_classes.shape)\n",
        "\n",
        "# Plot an example state. This is the model input.\n",
        "print('\\nExample state (this is the input to your neural network):')\n",
        "plt.imshow(states[0, :, :, :])\n",
        "\n",
        "# The simulator expects a length-3 array corresponding to stear,\n",
        "# accellerate, and break. But I converted the training data actions into a\n",
        "# discrete set to frame the problem as classification. This is the set of\n",
        "# possible actions. The indices in training data targets (action_classes)\n",
        "# correspond to this set of actions. Your agent's act method should\n",
        "# return one of these, not an integer index.\n",
        "ACTION_SPACE = [[0, 0, 0],  # no action\n",
        "                [-1, 0, 0],  # left\n",
        "                [-1, 0, 1],  # left+break\n",
        "                [1, 0, 0],  # right\n",
        "                [1, 0, 1],  # right+break\n",
        "                [0, 1, 0],  # acceleration\n",
        "                [0, 0, 1], ]  # break"
      ],
      "execution_count": null,
      "outputs": [
        {
          "output_type": "stream",
          "name": "stdout",
          "text": [
            "/usr/local/lib/python3.10/dist-packages/gdown/cli.py:138: FutureWarning: Option `--id` was deprecated in version 4.3.1 and will be removed in 5.0. You don't need to pass it anymore to use a file ID.\n",
            "  warnings.warn(\n",
            "Downloading...\n",
            "From: https://drive.google.com/uc?id=1AQnMFSRU3qQcHA-ruS8Ahcz-00FmYoi0\n",
            "To: /content/carracing_behavior.gzip\n",
            "100% 6.57M/6.57M [00:00<00:00, 19.7MB/s]\n",
            "\n",
            "State data shape (examples, x, y, color): (11132, 96, 96, 3)\n",
            "Action data shape (examples, action idx): (11132,)\n",
            "\n",
            "Example state (this is the input to your neural network):\n"
          ]
        },
        {
          "output_type": "display_data",
          "data": {
            "text/plain": [
              "<Figure size 640x480 with 1 Axes>"
            ],
            "image/png": "[encoded data removed]"
          },
          "metadata": {}
        }
      ]
    },
    {
      "cell_type": "markdown",
      "metadata": {
        "id": "RSG302fDI7JC"
      },
      "source": [
        "# Create, Train, and Simulate Agent\n",
        "\n",
        "Create your agent class below. The code provided should help get you started. Then test your agent in the racing environment.\n",
        "\n",
        "\n",
        "\n",
        "\n"
      ]
    },
    {
      "cell_type": "code",
      "metadata": {
        "id": "T2dMCVu7JVWc"
      },
      "source": [
        "# WRITE CODE HERE\n",
        "import tensorflow\n",
        "from tensorflow.keras.models import Sequential, load_model\n",
        "from tensorflow.keras.layers import Input, Conv2D, MaxPooling2D, Flatten, Dense, Dropout\n",
        "from tensorflow.keras.optimizers import Adam\n",
        "from tensorflow.keras.callbacks import EarlyStopping\n",
        "from tensorflow.keras.utils import to_categorical\n",
        "\n",
        "class Agent():\n",
        "  def __init__(self):\n",
        "    self.action_space = ACTION_SPACE\n",
        "\n",
        "  def train(self, X, Y):\n",
        "    \"\"\"\n",
        "    Defines an object self.model with method predict that takes input image and\n",
        "    outputs a vector of probabilities over ACTION_SPACE. This model can be\n",
        "    defined using any package (suggested: keras or pytorch).\n",
        "    \"\"\"\n",
        "    # WRITE ME\n",
        "    pass\n",
        "\n",
        "  def act(self, state):\n",
        "    \"\"\"Choose action to take in this state.\n",
        "    Args:\n",
        "      state: np.array of shape (96, 96, 3)\n",
        "    \"\"\"\n",
        "    # model.predict expects batch dimension along first axis.\n",
        "    state = np.expand_dims(state, axis=0)\n",
        "    act_values = self.model.predict(state, verbose=0)\n",
        "    action_index = np.argmax(act_values[0])\n",
        "    return self.action_space[action_index]\n",
        "\n",
        "agent = Agent()\n",
        "actions_onehot = to_categorical(action_classes)\n",
        "agent.train(states, actions_onehot)\n",
        "agent.model.save('agent.h5') # Can be reloaded from file.\n",
        "#agent.model = load_model('agent.h5')"
      ],
      "execution_count": null,
      "outputs": []
    },
    {
      "cell_type": "code",
      "metadata": {
        "id": "eLj3USuFM6Lf"
      },
      "source": [
        "# NO NEED TO MODIFY THIS CELL\n",
        "# Run simulation for t timesteps.\n",
        "from tqdm import tqdm\n",
        "NUM_TIMESTEPS = 2000  # Increase this to run simulation longer.\n",
        "with wrap_env(gym.make(\"CarRacing-v2\")) as env: # Exits env when done.\n",
        "  observation = env.reset()  # Restarts car at the starting line.\n",
        "  for t in tqdm(range(NUM_TIMESTEPS)):\n",
        "    env.render()\n",
        "    action = agent.act(observation)\n",
        "    observation, reward, done, info = env.step(action)\n",
        "    if done:\n",
        "      print(\"Episode finished after {} timesteps\".format(t+1))\n",
        "      break\n",
        "show_video()  # Video can be downloaded by clicking option in bottom right."
      ],
      "execution_count": null,
      "outputs": []
    }
  ]
}